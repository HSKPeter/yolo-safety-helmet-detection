{
  "cells": [
    {
      "cell_type": "markdown",
      "metadata": {},
      "source": [
        "This notebook is for execution in Google Colab, as the model training is computationally expensive and requires GPU."
      ]
    },
    {
      "cell_type": "code",
      "execution_count": null,
      "metadata": {
        "id": "XnBujDj5aaYa"
      },
      "outputs": [],
      "source": [
        "# Create API key in Kaggle and download kaggle.json, with reference to the guide below\n",
        "# https://www.kaggle.com/discussions/general/156610\n",
        "\n",
        "from google.colab import files\n",
        "\n",
        "# Upload your kaggle.json file\n",
        "files.upload()"
      ]
    },
    {
      "cell_type": "code",
      "execution_count": null,
      "metadata": {
        "colab": {
          "base_uri": "https://localhost:8080/"
        },
        "id": "re9l8k1vasb9",
        "outputId": "170fbd7d-96ad-4cdf-83dd-a98171160790"
      },
      "outputs": [],
      "source": [
        "! pip install kaggle"
      ]
    },
    {
      "cell_type": "code",
      "execution_count": null,
      "metadata": {
        "id": "-kbp8FsJbXv9"
      },
      "outputs": [],
      "source": [
        "! mkdir ~/.kaggle"
      ]
    },
    {
      "cell_type": "code",
      "execution_count": null,
      "metadata": {
        "id": "w02eeHCYbcKd"
      },
      "outputs": [],
      "source": [
        "! cp kaggle.json ~/.kaggle/"
      ]
    },
    {
      "cell_type": "code",
      "execution_count": null,
      "metadata": {
        "id": "aAxNyW8NbdJG"
      },
      "outputs": [],
      "source": [
        "! chmod 600 ~/.kaggle/kaggle.json"
      ]
    },
    {
      "cell_type": "code",
      "execution_count": null,
      "metadata": {
        "colab": {
          "base_uri": "https://localhost:8080/"
        },
        "id": "VSifqQ6dbedx",
        "outputId": "faa9d46e-79a2-4c90-e183-c4bf1ee7f716"
      },
      "outputs": [],
      "source": [
        "! kaggle datasets download -d muhammetzahitaydn/hardhat-vest-dataset-v3"
      ]
    },
    {
      "cell_type": "code",
      "execution_count": null,
      "metadata": {
        "colab": {
          "base_uri": "https://localhost:8080/"
        },
        "id": "FvkhWCaCfe6Q",
        "outputId": "41934ce6-6431-4388-9c01-8c51f0588b38"
      },
      "outputs": [],
      "source": [
        "!git clone https://github.com/ultralytics/yolov5  # clone\n",
        "%cd yolov5"
      ]
    },
    {
      "cell_type": "code",
      "execution_count": null,
      "metadata": {},
      "outputs": [],
      "source": [
        "!git checkout v7.0  # checkout to tag v7.0 to avoid issues in latest version"
      ]
    },
    {
      "cell_type": "code",
      "execution_count": null,
      "metadata": {
        "colab": {
          "base_uri": "https://localhost:8080/"
        },
        "id": "y6VivuDP0kuE",
        "outputId": "39a9b168-5f53-4ba1-9624-3903bb2c2090"
      },
      "outputs": [],
      "source": [
        "%pip install -qr requirements.txt"
      ]
    },
    {
      "cell_type": "code",
      "execution_count": null,
      "metadata": {
        "id": "9etLNFcXDOfm"
      },
      "outputs": [],
      "source": [
        "!cp /content/hardhat-vest-dataset-v3.zip hardhat-vest-dataset-v3.zip"
      ]
    },
    {
      "cell_type": "code",
      "execution_count": null,
      "metadata": {
        "id": "9usDISHEC9-U"
      },
      "outputs": [],
      "source": [
        "! unzip hardhat-vest-dataset-v3 -d dataset"
      ]
    },
    {
      "cell_type": "code",
      "execution_count": null,
      "metadata": {
        "colab": {
          "base_uri": "https://localhost:8080/"
        },
        "id": "zedRh4maDlPP",
        "outputId": "3fd345c0-de2b-4de9-c196-1925f2942efd"
      },
      "outputs": [],
      "source": [
        "%%writefile dataset.yaml\n",
        "\n",
        "names:\n",
        "  0: helmet\n",
        "  1: vest\n",
        "  2: head\n",
        "  3: person\n",
        "\n",
        "path: /content/yolov5/dataset\n",
        "train: images/train/\n",
        "val: images/val/\n",
        "test: images/test/"
      ]
    },
    {
      "cell_type": "code",
      "execution_count": null,
      "metadata": {
        "colab": {
          "background_save": true,
          "base_uri": "https://localhost:8080/"
        },
        "id": "Tb4RhC8DE3J3",
        "outputId": "45180b56-3651-40c3-ac3f-d0be67216da6"
      },
      "outputs": [],
      "source": [
        "!python train.py --batch 16 --epochs 10 --data dataset.yaml --weights yolov5s.pt --cache"
      ]
    }
  ],
  "metadata": {
    "colab": {
      "provenance": []
    },
    "kernelspec": {
      "display_name": "Python 3",
      "name": "python3"
    },
    "language_info": {
      "name": "python"
    }
  },
  "nbformat": 4,
  "nbformat_minor": 0
}
