{
  "cells": [
    {
      "cell_type": "markdown",
      "metadata": {
        "id": "7mGmQbAO5pQb"
      },
      "source": [
        "# Pre-requisite\n",
        "\n",
        "This notebook is for executing in runtime of Google Colab.\n",
        "\n",
        "Before running this notebook, save a zip file of the [HardHat-Vest Dataset](https://www.kaggle.com/datasets/muhammetzahitaydn/hardhat-vest-dataset-v3) named `dataset.zip` in your Google Drive."
      ]
    },
    {
      "cell_type": "code",
      "execution_count": null,
      "metadata": {
        "colab": {
          "base_uri": "https://localhost:8080/"
        },
        "id": "omCjiy9vJY7o",
        "outputId": "58af926d-ff57-47bf-c3e4-4ba43db58f38"
      },
      "outputs": [],
      "source": [
        "from google.colab import drive\n",
        "drive.mount('/content/drive') # A window would be prompted by Google Colab to request access for your Google Drive"
      ]
    },
    {
      "cell_type": "code",
      "execution_count": null,
      "metadata": {
        "colab": {
          "base_uri": "https://localhost:8080/"
        },
        "id": "wbvMlHd_QwMG",
        "outputId": "3a3565e3-e144-4a9b-af77-4d6dacf03798"
      },
      "outputs": [],
      "source": [
        "!git clone https://github.com/ultralytics/yolov5  # clone\n",
        "%cd yolov5\n",
        "%pip install -qr requirements.txt comet_ml  # install\n",
        "\n",
        "import torch\n",
        "import utils\n",
        "display = utils.notebook_init()  # checks"
      ]
    },
    {
      "cell_type": "code",
      "execution_count": null,
      "metadata": {
        "id": "Y8q4dbzGJV-T"
      },
      "outputs": [],
      "source": [
        "!cp /content/drive/MyDrive/dataset.zip dataset.zip"
      ]
    },
    {
      "cell_type": "code",
      "execution_count": null,
      "metadata": {
        "colab": {
          "base_uri": "https://localhost:8080/"
        },
        "id": "WpaEFL5AJ0jY",
        "outputId": "da9ba86e-1e27-469a-d859-60df37457bb6"
      },
      "outputs": [],
      "source": [
        "!unzip dataset.zip -d dataset"
      ]
    },
    {
      "cell_type": "code",
      "execution_count": null,
      "metadata": {
        "colab": {
          "base_uri": "https://localhost:8080/"
        },
        "id": "ugm1uZVCKQme",
        "outputId": "9589de57-d5cb-4514-aebb-a5622ca4d84b"
      },
      "outputs": [],
      "source": [
        "%%writefile dataset.yaml\n",
        "\n",
        "names:\n",
        "  0: Hardhat\n",
        "  1: Mask\n",
        "  2: NO-Hardhat\n",
        "  3: NO-Mask\n",
        "  4: NO-Safety Vest\n",
        "  5: Person\n",
        "  6: Safety Cone\n",
        "  7: Safety Vest\n",
        "  8: machinery\n",
        "  9: vehicle\n",
        "\n",
        "test: /content/yolov5/dataset/css-data/test\n",
        "train: /content/yolov5/dataset/css-data/train\n",
        "val: /content/yolov5/dataset/css-data/valid"
      ]
    },
    {
      "cell_type": "code",
      "execution_count": null,
      "metadata": {
        "colab": {
          "background_save": true,
          "base_uri": "https://localhost:8080/"
        },
        "id": "1NcFxRcFdJ_O",
        "outputId": "0d22f3d8-3776-4c32-8b96-45c62af837d4"
      },
      "outputs": [],
      "source": [
        "!python train.py --batch 16 --epochs 3 --data dataset.yaml --weights yolov5s.pt --cache"
      ]
    },
    {
      "cell_type": "markdown",
      "metadata": {
        "id": "u-jF0ZlD7E34"
      },
      "source": [
        "from google.colab import files\n",
        "\n",
        "files.download('/content/yolov5/runs/train/exp/weights/best.pt')"
      ]
    }
  ],
  "metadata": {
    "accelerator": "GPU",
    "colab": {
      "provenance": []
    },
    "kernelspec": {
      "display_name": "Python 3",
      "name": "python3"
    }
  },
  "nbformat": 4,
  "nbformat_minor": 0
}
